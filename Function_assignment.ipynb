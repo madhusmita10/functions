{
  "nbformat": 4,
  "nbformat_minor": 0,
  "metadata": {
    "colab": {
      "provenance": []
    },
    "kernelspec": {
      "name": "python3",
      "display_name": "Python 3"
    },
    "language_info": {
      "name": "python"
    }
  },
  "cells": [
    {
      "cell_type": "markdown",
      "source": [
        "1. What is the difference between a function and a method in Python?\n",
        "**Function**\n",
        "- afunction is define using def keyword\n",
        "- It is not associated with any object.\n",
        "- Can be called independently.\n",
        "e.g-greet(\"Alice\")\n",
        "**Method**\n",
        "- A method is also a function, but it's associated with an object\n",
        "- It is called using dot notation\n",
        "- The first argument of instance methods is always self, which refers to the\n",
        " object itself.\n",
        "e.g-g.greet(\"Bob\")\n",
        "\n",
        "2. Explain the concept of function arguments and parameters in Python.\n",
        "**Parameter**\n",
        "- Parameters are the names listed in a function definition. They act like placeholders for the values you will pass to the function\n",
        "**Argument**\n",
        "- Arguments are the actual values passed to the function when it is called.\n",
        "def greet(name):  # 'name' is a parameter\n",
        "    print(\"Hello, \" + name + \"!\")\n",
        "\n",
        "greet(\"madhusmita\")    # \"madhusmita\" is an argument\n",
        "\n",
        "3. What are the different ways to define and call a function in Python?\n",
        "- standard function defination\n",
        "- function with parameter\n",
        "- function with default parameter\n",
        "- function with return statement\n",
        "- lambda function etc\n",
        " e.g-add = lambda x, y: x + y\n",
        "print(add(2, 3))  # Output: 5\n",
        "4. What is the purpose of the `return` statement in a Python function?\n",
        "- The return function used to send a value back to the caller and ends the function executions and also allow reuse of results in other parts of the program\n",
        "e.g-def add(a, b):\n",
        "    return a + b\n",
        "\n",
        "result = add(34, 5)\n",
        "print(result)  # Output: 39\n",
        "\n",
        "5. What are iterators in Python and how do they differ from iterables?\n",
        "- An iterable is any Python object that can return an iterator using the built-in iter() function.\n",
        "- e.g-# Iterable\n",
        "numbers = [1, 2, 3]\n",
        "\n",
        "# Get iterator from iterable\n",
        "it = iter(numbers)\n",
        "\n",
        "print(next(it))  # Output: 1\n",
        "print(next(it))  # Output: 2\n",
        "print(next(it))  # Output: 3\n",
        "# next(it) now would raise StopIteration\n",
        "\n",
        "- An iterator is an object that remembers its position during iteration and has two key methods\n",
        "- e.g-counter = Counter(5)\n",
        "\n",
        "for number in counter:\n",
        "    print(number)\n",
        "     output\n",
        "1\n",
        "2\n",
        "3\n",
        "4\n",
        "5\n",
        "6. Explain the concept of generators in Python and how they are defined.\n",
        "- A generator is a function the use Yield insteed of return,pause its state between call resume where left off when next() is called\n",
        "- e.g-counter = count_up_to(3)\n",
        "\n",
        "for num in counter:\n",
        "    print(num)\n",
        "output\n",
        "1\n",
        "2\n",
        "3\n",
        "7. What are the advantages of using generators over regular functions?\n",
        "-  advantages of using generator is Doesn't load all data into memory,\tValues produced only when needed, e.g- gen = generate_numbers()\n",
        "print(next(gen))  # Only the first number is computed\n",
        "\n",
        " and also Better performance-\tFaster for streaming or large sequences ,it Can handle unbounded loops or streams\n",
        "8. What is a lambda function in Python and when is it typically used?\n",
        "- A lambda function is a small, anonymous function defined using the lambda keyword.It can have any number of arguments but only one expression.\n",
        "- e.g-add = lambda a, b: a + b\n",
        "print(add(35, 5))  # Output: 40\n",
        "\n",
        "9. Explain the purpose and usage of the `map()` function in Python.\n",
        "- The map() function in Python is used to apply a function to every item in an iterable (like a list or tuple) and return a new map object  with the results.\n",
        "- e.g-nums = [1, 2, 3, 4]\n",
        "squares = map(pow, nums, [2]*4)  # Raises each number to the power of 2\n",
        "print(list(squares))  # Output: [1, 4, 9, 16]\n",
        "\n",
        "10. What is the difference between `map()`, `reduce()`, and `filter()` functions in Python?\n",
        "- map()-Apply a function to every item in an iterable\n",
        "- Input/Output\t-Iterable → Function → Transformed Iterable\n",
        "- e.g., square numbers\n",
        "- filter()\tFilter items based on a condition\n",
        "- Input/Output\t-Iterable → Function (True/False) → Filtered Iterable\n",
        "- e.g- keep even numbers\n",
        "- reduce()\tReduce an iterable to a single value\n",
        "- Input/Output\t-Iterable → Function → Single value result\n",
        "- e.g-sum ,product\n",
        "11. Using pen & Paper write the internal mechanism for sum operation using  reduce function on this given\n",
        "list:[47,11,42,13];\n",
        "- Initial list: [47, 11, 42, 13]\n",
        "\n",
        "1st iteration: 47 + 11 = 58\n",
        "2nd iteration: 58 + 42 = 100\n",
        "3rd iteration: 100 + 13 = 113\n",
        "\n",
        "Final result: 113\n",
        "\n",
        "\n",
        "\n",
        "\n",
        "\n",
        "\n",
        "\n",
        "\n",
        "\n"
      ],
      "metadata": {
        "id": "AnICWaB1nUeJ"
      }
    },
    {
      "cell_type": "code",
      "source": [
        "#1. Write a Python function that takes a list of numbers as input and returns the sum of all even numbers in the list\n",
        "def sum_even_numbers(numbers):\n",
        "       return sum([num for num in numbers if num % 2 == 0])\n",
        "numbers = [1, 2, 3, 4, 5, 6, 7, 8]\n",
        "result = sum_even_numbers(numbers)\n",
        "print(\"Sum of even numbers:\", result)\n",
        "\n",
        "\n",
        "\n"
      ],
      "metadata": {
        "colab": {
          "base_uri": "https://localhost:8080/"
        },
        "id": "SFkILV860o5W",
        "outputId": "7368c7ff-2cac-4cf1-b3a8-5fb5847692db"
      },
      "execution_count": 1,
      "outputs": [
        {
          "output_type": "stream",
          "name": "stdout",
          "text": [
            "Sum of even numbers: 20\n"
          ]
        }
      ]
    },
    {
      "cell_type": "code",
      "source": [],
      "metadata": {
        "id": "WjQNz7VB1X22"
      },
      "execution_count": null,
      "outputs": []
    },
    {
      "cell_type": "code",
      "source": [
        "#2. Create a Python function that accepts a string and returns the reverse of that string.\n",
        "def reverse_string(text):\n",
        "    return text[::-1]\n",
        "\n",
        "input_str = \"hello\"\n",
        "reversed_str = reverse_string(input_str)\n",
        "print(\"Reversed string:\", reversed_str)\n",
        "\n"
      ],
      "metadata": {
        "colab": {
          "base_uri": "https://localhost:8080/"
        },
        "id": "bsrKOGjz1YMM",
        "outputId": "8c3b2d53-7fb8-477b-9a52-994e3e05e816"
      },
      "execution_count": 2,
      "outputs": [
        {
          "output_type": "stream",
          "name": "stdout",
          "text": [
            "Reversed string: olleh\n"
          ]
        }
      ]
    },
    {
      "cell_type": "code",
      "source": [
        "#3. Implement a Python function that takes a list of integers and returns a new list containing the squares of each number\n",
        "def square_numbers(numbers):\n",
        "    return [num ** 2 for num in numbers]\n",
        "nums = [1, 2, 3, 4, 5]\n",
        "squared_list = square_numbers(nums)\n",
        "print(\"Squared numbers:\", squared_list)\n"
      ],
      "metadata": {
        "colab": {
          "base_uri": "https://localhost:8080/"
        },
        "id": "mA396Cmx1tCn",
        "outputId": "ad10a3a4-cdd8-478a-c22a-803b3d6cf57c"
      },
      "execution_count": 3,
      "outputs": [
        {
          "output_type": "stream",
          "name": "stdout",
          "text": [
            "Squared numbers: [1, 4, 9, 16, 25]\n"
          ]
        }
      ]
    },
    {
      "cell_type": "code",
      "source": [
        "#4. Write a Python function that checks if a given number is prime or not from 1 to 200\n",
        "def is_prime(n):\n",
        "    if n <= 1:\n",
        "        return False\n",
        "    for i in range(2, int(n**0.5) + 1):\n",
        "        if n % i == 0:\n",
        "            return False\n",
        "    return True\n",
        "for num in range(1, 201):\n",
        "    if is_prime(num):\n",
        "        print(num, \"is a prime number\")\n"
      ],
      "metadata": {
        "colab": {
          "base_uri": "https://localhost:8080/"
        },
        "id": "cnobZmMk2GEp",
        "outputId": "d00fdf76-46bb-4c02-9086-91cb2e61dfa2"
      },
      "execution_count": 4,
      "outputs": [
        {
          "output_type": "stream",
          "name": "stdout",
          "text": [
            "2 is a prime number\n",
            "3 is a prime number\n",
            "5 is a prime number\n",
            "7 is a prime number\n",
            "11 is a prime number\n",
            "13 is a prime number\n",
            "17 is a prime number\n",
            "19 is a prime number\n",
            "23 is a prime number\n",
            "29 is a prime number\n",
            "31 is a prime number\n",
            "37 is a prime number\n",
            "41 is a prime number\n",
            "43 is a prime number\n",
            "47 is a prime number\n",
            "53 is a prime number\n",
            "59 is a prime number\n",
            "61 is a prime number\n",
            "67 is a prime number\n",
            "71 is a prime number\n",
            "73 is a prime number\n",
            "79 is a prime number\n",
            "83 is a prime number\n",
            "89 is a prime number\n",
            "97 is a prime number\n",
            "101 is a prime number\n",
            "103 is a prime number\n",
            "107 is a prime number\n",
            "109 is a prime number\n",
            "113 is a prime number\n",
            "127 is a prime number\n",
            "131 is a prime number\n",
            "137 is a prime number\n",
            "139 is a prime number\n",
            "149 is a prime number\n",
            "151 is a prime number\n",
            "157 is a prime number\n",
            "163 is a prime number\n",
            "167 is a prime number\n",
            "173 is a prime number\n",
            "179 is a prime number\n",
            "181 is a prime number\n",
            "191 is a prime number\n",
            "193 is a prime number\n",
            "197 is a prime number\n",
            "199 is a prime number\n"
          ]
        }
      ]
    },
    {
      "cell_type": "code",
      "source": [
        "#5. Create an iterator class in Python that generates the Fibonacci sequence up to a specified number of terms\n",
        "class Fibonacci:\n",
        "    def __init__(self, n_terms):\n",
        "        self.n_terms = n_terms\n",
        "        self.count = 0\n",
        "        self.a = 0\n",
        "        self.b = 1\n",
        "\n",
        "    def __iter__(self):\n",
        "        return self\n",
        "\n",
        "    def __next__(self):\n",
        "        if self.count >= self.n_terms:\n",
        "            raise StopIteration\n",
        "        if self.count == 0:\n",
        "            self.count += 1\n",
        "            return self.a\n",
        "        elif self.count == 1:\n",
        "            self.count += 1\n",
        "            return self.b\n",
        "        else:\n",
        "            self.a, self.b = self.b, self.a + self.b\n",
        "            self.count += 1\n",
        "            return self.b\n",
        "fib = Fibonacci(10)\n",
        "\n",
        "for num in fib:\n",
        "    print(num, end=\" \")\n",
        "\n"
      ],
      "metadata": {
        "colab": {
          "base_uri": "https://localhost:8080/"
        },
        "id": "KqE8b5Yo26Oa",
        "outputId": "81f1218a-f9ee-441b-a2c5-b658a3346b62"
      },
      "execution_count": 8,
      "outputs": [
        {
          "output_type": "stream",
          "name": "stdout",
          "text": [
            "0 1 1 2 3 5 8 13 21 34 "
          ]
        }
      ]
    },
    {
      "cell_type": "code",
      "source": [
        "#6. Write a generator function in Python that yields the powers of 2 up to a given exponent.\n",
        "def powers_of_two(n):\n",
        "    for i in range(n + 1):\n",
        "        yield 2 ** i\n",
        "for power in powers_of_two(5):\n",
        "    print(power)\n"
      ],
      "metadata": {
        "colab": {
          "base_uri": "https://localhost:8080/"
        },
        "id": "S5BO_i2B3RWq",
        "outputId": "98ba3a11-8bc9-4607-c16f-9cf9c4fbe9d9"
      },
      "execution_count": 9,
      "outputs": [
        {
          "output_type": "stream",
          "name": "stdout",
          "text": [
            "1\n",
            "2\n",
            "4\n",
            "8\n",
            "16\n",
            "32\n"
          ]
        }
      ]
    },
    {
      "cell_type": "code",
      "source": [
        "#7. Implement a generator function that reads a file line by line and yields each line as a string\n",
        "def read_file_line_by_line(filename):\n",
        "    with open(filename, 'r') as file:\n",
        "        for line in file:\n",
        "            yield line.strip()\n",
        "for line in read_file_line_by_line('example.txt'):\n",
        "    print(line)\n"
      ],
      "metadata": {
        "colab": {
          "base_uri": "https://localhost:8080/",
          "height": 315
        },
        "id": "SKrvlEIr3phR",
        "outputId": "7236c9b6-2124-4b0c-b946-e4ac6bf2e13c"
      },
      "execution_count": 10,
      "outputs": [
        {
          "output_type": "error",
          "ename": "FileNotFoundError",
          "evalue": "[Errno 2] No such file or directory: 'example.txt'",
          "traceback": [
            "\u001b[0;31m---------------------------------------------------------------------------\u001b[0m",
            "\u001b[0;31mFileNotFoundError\u001b[0m                         Traceback (most recent call last)",
            "\u001b[0;32m<ipython-input-10-ff09c5fbf0e9>\u001b[0m in \u001b[0;36m<cell line: 0>\u001b[0;34m()\u001b[0m\n\u001b[1;32m      4\u001b[0m         \u001b[0;32mfor\u001b[0m \u001b[0mline\u001b[0m \u001b[0;32min\u001b[0m \u001b[0mfile\u001b[0m\u001b[0;34m:\u001b[0m\u001b[0;34m\u001b[0m\u001b[0;34m\u001b[0m\u001b[0m\n\u001b[1;32m      5\u001b[0m             \u001b[0;32myield\u001b[0m \u001b[0mline\u001b[0m\u001b[0;34m.\u001b[0m\u001b[0mstrip\u001b[0m\u001b[0;34m(\u001b[0m\u001b[0;34m)\u001b[0m  \u001b[0;31m# .strip() removes leading/trailing whitespace\u001b[0m\u001b[0;34m\u001b[0m\u001b[0;34m\u001b[0m\u001b[0m\n\u001b[0;32m----> 6\u001b[0;31m \u001b[0;32mfor\u001b[0m \u001b[0mline\u001b[0m \u001b[0;32min\u001b[0m \u001b[0mread_file_line_by_line\u001b[0m\u001b[0;34m(\u001b[0m\u001b[0;34m'example.txt'\u001b[0m\u001b[0;34m)\u001b[0m\u001b[0;34m:\u001b[0m\u001b[0;34m\u001b[0m\u001b[0;34m\u001b[0m\u001b[0m\n\u001b[0m\u001b[1;32m      7\u001b[0m     \u001b[0mprint\u001b[0m\u001b[0;34m(\u001b[0m\u001b[0mline\u001b[0m\u001b[0;34m)\u001b[0m\u001b[0;34m\u001b[0m\u001b[0;34m\u001b[0m\u001b[0m\n",
            "\u001b[0;32m<ipython-input-10-ff09c5fbf0e9>\u001b[0m in \u001b[0;36mread_file_line_by_line\u001b[0;34m(filename)\u001b[0m\n\u001b[1;32m      1\u001b[0m \u001b[0;31m#7. Implement a generator function that reads a file line by line and yields each line as a string\u001b[0m\u001b[0;34m\u001b[0m\u001b[0;34m\u001b[0m\u001b[0m\n\u001b[1;32m      2\u001b[0m \u001b[0;32mdef\u001b[0m \u001b[0mread_file_line_by_line\u001b[0m\u001b[0;34m(\u001b[0m\u001b[0mfilename\u001b[0m\u001b[0;34m)\u001b[0m\u001b[0;34m:\u001b[0m\u001b[0;34m\u001b[0m\u001b[0;34m\u001b[0m\u001b[0m\n\u001b[0;32m----> 3\u001b[0;31m     \u001b[0;32mwith\u001b[0m \u001b[0mopen\u001b[0m\u001b[0;34m(\u001b[0m\u001b[0mfilename\u001b[0m\u001b[0;34m,\u001b[0m \u001b[0;34m'r'\u001b[0m\u001b[0;34m)\u001b[0m \u001b[0;32mas\u001b[0m \u001b[0mfile\u001b[0m\u001b[0;34m:\u001b[0m\u001b[0;34m\u001b[0m\u001b[0;34m\u001b[0m\u001b[0m\n\u001b[0m\u001b[1;32m      4\u001b[0m         \u001b[0;32mfor\u001b[0m \u001b[0mline\u001b[0m \u001b[0;32min\u001b[0m \u001b[0mfile\u001b[0m\u001b[0;34m:\u001b[0m\u001b[0;34m\u001b[0m\u001b[0;34m\u001b[0m\u001b[0m\n\u001b[1;32m      5\u001b[0m             \u001b[0;32myield\u001b[0m \u001b[0mline\u001b[0m\u001b[0;34m.\u001b[0m\u001b[0mstrip\u001b[0m\u001b[0;34m(\u001b[0m\u001b[0;34m)\u001b[0m  \u001b[0;31m# .strip() removes leading/trailing whitespace\u001b[0m\u001b[0;34m\u001b[0m\u001b[0;34m\u001b[0m\u001b[0m\n",
            "\u001b[0;31mFileNotFoundError\u001b[0m: [Errno 2] No such file or directory: 'example.txt'"
          ]
        }
      ]
    },
    {
      "cell_type": "code",
      "source": [
        "#8. Use a lambda function in Python to sort a list of tuples based on the second element of each tuple.\n",
        "data = [(1, 3), (2, 1), (4, 2), (5, 0)]\n",
        "sorted_data = sorted(data, key=lambda x: x[1])\n",
        "\n",
        "print(sorted_data)\n"
      ],
      "metadata": {
        "colab": {
          "base_uri": "https://localhost:8080/"
        },
        "id": "VgrECs9X4Ify",
        "outputId": "fdd31b45-9f86-412a-ba64-f02fb359956e"
      },
      "execution_count": 11,
      "outputs": [
        {
          "output_type": "stream",
          "name": "stdout",
          "text": [
            "[(5, 0), (2, 1), (4, 2), (1, 3)]\n"
          ]
        }
      ]
    },
    {
      "cell_type": "code",
      "source": [
        "#9. Write a Python program that uses `map()` to convert a list of temperatures from Celsius to Fahrenheit\n",
        "celsius_temps = [0, 10, 20, 30, 40]\n",
        "fahrenheit_temps = list(map(lambda c: (c * 9/5) + 32, celsius_temps))\n",
        "print(\"Fahrenheit temperatures:\", fahrenheit_temps)\n"
      ],
      "metadata": {
        "colab": {
          "base_uri": "https://localhost:8080/"
        },
        "id": "Q3miby1P4p3v",
        "outputId": "ef85d325-4483-471a-cc66-3fdc133aadf8"
      },
      "execution_count": 12,
      "outputs": [
        {
          "output_type": "stream",
          "name": "stdout",
          "text": [
            "Fahrenheit temperatures: [32.0, 50.0, 68.0, 86.0, 104.0]\n"
          ]
        }
      ]
    },
    {
      "cell_type": "code",
      "source": [
        "#10. Create a Python program that uses `filter()` to remove all the vowels from a given string.\n",
        "def remove_vowels(text):\n",
        "    vowels = 'aeiouAEIOU'\n",
        "    return ''.join(filter(lambda char: char not in vowels, text))\n",
        "input_str = \"Hello, World!\"\n",
        "result = remove_vowels(input_str)\n",
        "print(\"String without vowels:\", result)\n"
      ],
      "metadata": {
        "colab": {
          "base_uri": "https://localhost:8080/"
        },
        "id": "mdd0x0Cl45C2",
        "outputId": "f699939a-9b76-4aa8-af07-0af0edb3d9c6"
      },
      "execution_count": 13,
      "outputs": [
        {
          "output_type": "stream",
          "name": "stdout",
          "text": [
            "String without vowels: Hll, Wrld!\n"
          ]
        }
      ]
    },
    {
      "cell_type": "code",
      "source": [
        "#11. Write a Python program, which returns a list with 2-tuples. Each tuple consists of the order number and the\n",
        "product of the price per item and the quantity. The product should be increased by 10,- € if the value of the\n",
        "order is smaller than 100,00 €.\n",
        "\n",
        "def process_orders(orders):\n",
        "    result = []\n",
        "\n",
        "    for i, (price, quantity) in enumerate(orders, start=1):\n",
        "        total = price * quantity\n",
        "        if total < 100:\n",
        "            total += 10  # Add €10 surcharge\n",
        "        result.append((i, total))\n",
        "\n",
        "    return result\n",
        "\n",
        "# Example input: list of (price, quantity)\n",
        "order_list = [\n",
        "    (40.95, 4),   # 40 -> +10 => 50\n",
        "    (56.80, 5),  # 150 -> no surcharge\n",
        "    (32.95, 3),    # 45 -> +10 => 55\n",
        "    (24.99, 3)    # 50 -> +10 => 60\n",
        "]\n",
        "\n",
        "# Run the function\n",
        "processed = process_orders(order_list)\n",
        "\n",
        "# Print the result\n",
        "print(\"Processed Orders (Order Number, Total Price):\")\n",
        "for order in processed:\n",
        "    print(order)\n"
      ],
      "metadata": {
        "colab": {
          "base_uri": "https://localhost:8080/",
          "height": 106
        },
        "id": "FCkWIq975L3l",
        "outputId": "2c250605-223e-42ea-f952-f446e8e06710"
      },
      "execution_count": 14,
      "outputs": [
        {
          "output_type": "error",
          "ename": "SyntaxError",
          "evalue": "invalid character '€' (U+20AC) (<ipython-input-14-20472eeaf1b6>, line 2)",
          "traceback": [
            "\u001b[0;36m  File \u001b[0;32m\"<ipython-input-14-20472eeaf1b6>\"\u001b[0;36m, line \u001b[0;32m2\u001b[0m\n\u001b[0;31m    product of the price per item and the quantity. The product should be increased by 10,- € if the value of the\u001b[0m\n\u001b[0m                                                                                            ^\u001b[0m\n\u001b[0;31mSyntaxError\u001b[0m\u001b[0;31m:\u001b[0m invalid character '€' (U+20AC)\n"
          ]
        }
      ]
    }
  ]
}